{
 "cells": [
  {
   "cell_type": "markdown",
   "id": "4922ca8a",
   "metadata": {},
   "source": [
    "Decision trees approaches.\n",
    "\n",
    "CatBoost:\n",
    "\n",
    "1). Can process with a lot of different kind of features out of box\n",
    "\n",
    "2). Accurately learning based on previous trees results\n",
    "\n",
    "3). Has own techniques to work with missing values out of box\n",
    "\n",
    "Random Forest:\n",
    "\n",
    "1). Fastly, independently and stability learn with subsets of features and data with subsets prallel trees training (bagging)\n",
    "\n",
    "Both:\n",
    "\n",
    "1). No need feature selection, so all data can be useful\n",
    "\n",
    "Final models for each method serialized in pickle files.\n",
    "\n",
    "Output:\n",
    "    \n",
    "    CatBoost:\n",
    "    Accuracy: 0.9082952215738842\n",
    "    Precision: 0.6593406593406593\n",
    "    Recall: 0.09828009828009827\n",
    "    ROC-AUC 0.8490243310164115\n",
    "    \n",
    "    Random Forest:\n",
    "    Accuracy: 0.9040372181044\n",
    "    Precision: 0.7\n",
    "    Recall: 0.005733005733005733\n",
    "    ROC-AUC 0.7684109230056015"
   ]
  },
  {
   "cell_type": "code",
   "execution_count": 1,
   "id": "fd8572d9",
   "metadata": {},
   "outputs": [],
   "source": [
    "#!pip install scikit-learn==1.2.2 --user --force\n",
    "import pandas as pd\n",
    "from time import time\n",
    "from sklearn.model_selection import RandomizedSearchCV, train_test_split, GridSearchCV\n",
    "from sklearn.ensemble import RandomForestClassifier\n",
    "from sklearn.impute import SimpleImputer\n",
    "import numpy as np\n",
    "from sklearn.preprocessing import LabelEncoder\n",
    "from pandas.api.types import is_string_dtype\n",
    "from pandas.api.types import is_numeric_dtype\n",
    "from sklearn.metrics import accuracy_score, confusion_matrix, precision_score, recall_score, ConfusionMatrixDisplay, roc_auc_score\n",
    "from scipy.stats import randint\n",
    "import pickle\n",
    "from catboost import CatBoostClassifier"
   ]
  },
  {
   "cell_type": "code",
   "execution_count": 2,
   "id": "3a3c3b01",
   "metadata": {},
   "outputs": [],
   "source": [
    "df = pd.read_csv(r'../dataset.csv',\n",
    "                 header=None, encoding='utf8', delimiter=',', index_col=None)\n",
    "df = df.rename(columns={0:'id', 1:'sample_date', 2:'target'})\n",
    "\n",
    "string_col = []\n",
    "for i in df.columns:\n",
    "    if is_numeric_dtype(df[i]):\n",
    "        try:\n",
    "            mean_1 = df[i].mean().values[0]\n",
    "            df[i].fillna(value=mean_1, inplace=True)\n",
    "        except:\n",
    "            df[i].fillna(value=0, inplace=True)\n",
    "    if is_string_dtype(df[i]):\n",
    "        string_col.append(i)\n",
    "        try:\n",
    "            mode_2 = df[i].mode().values[0]\n",
    "            df[i].fillna(value=mode_2, inplace=True)\n",
    "        except:\n",
    "            df[i].fillna(value='0', inplace=True)\n",
    "\n",
    "df = pd.get_dummies(df, columns=string_col, drop_first=True)\n",
    "df.columns = df.columns.astype(str)# Обучающая и тестовая выборки\n",
    "\n",
    "\n",
    "X = df.drop('target', axis=1)\n",
    "y = df[['target']]\n",
    "X_train, X_test, y_train, y_test = train_test_split(X, y, test_size = 0.3, random_state=42)\n",
    "\n",
    "features = [col_name for col_name in df.columns if col_name != 'make']\n",
    "cat_features = [col_name for col_name in features if df[col_name].dtype == 'object']"
   ]
  },
  {
   "cell_type": "markdown",
   "id": "c08d636d",
   "metadata": {},
   "source": [
    "# CatBoost"
   ]
  },
  {
   "cell_type": "code",
   "execution_count": 8,
   "id": "ffbad336",
   "metadata": {},
   "outputs": [
    {
     "name": "stdout",
     "output_type": "stream",
     "text": [
      "Confusion matrix [[11399    62]\n",
      " [ 1101   120]]\n",
      "Accuracy: 0.9082952215738842\n",
      "Precision: 0.6593406593406593\n",
      "Recall: 0.09828009828009827\n",
      "ROC-AUC 0.8490243310164115\n"
     ]
    }
   ],
   "source": [
    "#############Create pickle model\n",
    "# param_dist_cb = {\n",
    "#             'iterations': [500, 1000],\n",
    "#             'depth': [10, 20],\n",
    "#             'verbose': [False],\n",
    "#             }\n",
    "\n",
    "# cb_clf = CatBoostClassifier()\n",
    "\n",
    "# grid_search_cb = GridSearchCV(cb_clf, param_dist_cb, cv=5)\n",
    "\n",
    "# cb_clf.fit(X_train, y_train, \n",
    "#         cat_features=cat_features, \n",
    "#         eval_set=(X_test, y_test), \n",
    "#         verbose=False)\n",
    "\n",
    "# pickle.dump(cb_clf, open(\"./catboost.pickle\", \"wb\"))\n",
    "#############Load from pickle model\n",
    "with open('./catboost.pickle', 'rb') as f:\n",
    "    catboost_estimator = pickle.load(f)\n",
    "\n",
    "y_pred = catboost_estimator.predict(X_test)\n",
    "\n",
    "cm = confusion_matrix(y_test, y_pred)\n",
    "accuracy = accuracy_score(y_test, y_pred)\n",
    "precision = precision_score(y_test, y_pred)\n",
    "recall = recall_score(y_test, y_pred)\n",
    "\n",
    "print(\"Confusion matrix\", cm)\n",
    "print(\"Accuracy:\", accuracy)\n",
    "print(\"Precision:\", precision)\n",
    "print(\"Recall:\", recall)\n",
    "print(\"ROC-AUC\", roc_auc_score(y, catboost_estimator.predict_proba(X)[:, 1]))"
   ]
  },
  {
   "cell_type": "markdown",
   "id": "bc016aff",
   "metadata": {},
   "source": [
    "# Random Forest"
   ]
  },
  {
   "cell_type": "code",
   "execution_count": 9,
   "id": "4767ccca",
   "metadata": {},
   "outputs": [
    {
     "name": "stdout",
     "output_type": "stream",
     "text": [
      "Confusion matrix [[11458     3]\n",
      " [ 1214     7]]\n",
      "Accuracy: 0.9040372181044\n",
      "Precision: 0.7\n",
      "Recall: 0.005733005733005733\n",
      "ROC-AUC 0.7684109230056015\n"
     ]
    }
   ],
   "source": [
    "#############Create pickle model\n",
    "# param_dist = {\n",
    "#             'n_estimators': randint(200, 500),\n",
    "#             'max_depth': randint(8, 10)\n",
    "#         }\n",
    "\n",
    "# rf_clf = RandomForestClassifier()\n",
    "\n",
    "# rand_search = RandomizedSearchCV(rf_clf,\n",
    "#                                  param_distributions = param_dist,\n",
    "#                                  n_iter=2,\n",
    "#                                  cv=5)\n",
    "\n",
    "# rand_search.fit(X_train, y_train.values.ravel())\n",
    "\n",
    "# best_rf = rand_search.best_estimator_\n",
    "\n",
    "# print('Best hyperparameters:',  rand_search.best_params_)\n",
    "\n",
    "# pickle.dump(best_rf, open(\"./random_forest.pickle\", \"wb\"))\n",
    "#############Load from pickle model\n",
    "with open('./random_forest.pickle', 'rb') as f:\n",
    "    random_forest_estimator = pickle.load(f)\n",
    "\n",
    "y_pred = random_forest_estimator.predict(X_test)\n",
    "\n",
    "cm = confusion_matrix(y_test, y_pred)\n",
    "accuracy = accuracy_score(y_test, y_pred)\n",
    "precision = precision_score(y_test, y_pred)\n",
    "recall = recall_score(y_test, y_pred)\n",
    "\n",
    "print(\"Confusion matrix\", cm)\n",
    "print(\"Accuracy:\", accuracy)\n",
    "print(\"Precision:\", precision)\n",
    "print(\"Recall:\", recall)\n",
    "print(\"ROC-AUC\", roc_auc_score(y, random_forest_estimator.predict_proba(X)[:, 1]))"
   ]
  }
 ],
 "metadata": {
  "kernelspec": {
   "display_name": "Python 3 (ipykernel)",
   "language": "python",
   "name": "python3"
  },
  "language_info": {
   "codemirror_mode": {
    "name": "ipython",
    "version": 3
   },
   "file_extension": ".py",
   "mimetype": "text/x-python",
   "name": "python",
   "nbconvert_exporter": "python",
   "pygments_lexer": "ipython3",
   "version": "3.9.13"
  }
 },
 "nbformat": 4,
 "nbformat_minor": 5
}
